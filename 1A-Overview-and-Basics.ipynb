{
 "metadata": {
  "name": "",
  "signature": "sha256:429ae4fa90f56d900ef0d1b7d8d1858cfe99a08a85cc48289f6b0a7477f0a20c"
 },
 "nbformat": 3,
 "nbformat_minor": 0,
 "worksheets": [
  {
   "cells": [
    {
     "cell_type": "heading",
     "level": 1,
     "metadata": {
      "slideshow": {
       "slide_type": "-"
      }
     },
     "source": [
      "1A: Overview and Basics"
     ]
    },
    {
     "cell_type": "markdown",
     "metadata": {
      "slideshow": {
       "slide_type": "-"
      }
     },
     "source": [
      "Introduction"
     ]
    },
    {
     "cell_type": "heading",
     "level": 2,
     "metadata": {
      "slideshow": {
       "slide_type": "-"
      }
     },
     "source": [
      "Goals"
     ]
    },
    {
     "cell_type": "markdown",
     "metadata": {},
     "source": []
    },
    {
     "cell_type": "markdown",
     "metadata": {},
     "source": [
      "## Overview of the Tools\n",
      "\n",
      "In this course, we will be using: \n",
      "* Python, a programming language\n",
      "* IPython Notebook, a programming environment\n",
      "* Pandas, a Python library for data analysis\n",
      "* Matplotlib, a Python library for 2d graphics. \n",
      "\n",
      "While there are graphical interfaces to many of these tools, it is important for you to be familiar with command line interfaces. \n"
     ]
    },
    {
     "cell_type": "markdown",
     "metadata": {},
     "source": [
      "## Starting IPython and Basic Use"
     ]
    },
    {
     "cell_type": "markdown",
     "metadata": {},
     "source": [
      "## Basic Python\n",
      "\n",
      "REPL, Read\u2013eval\u2013print loop\n"
     ]
    },
    {
     "cell_type": "code",
     "collapsed": false,
     "input": [
      "x = 2\n",
      "y = 6\n",
      "y + x"
     ],
     "language": "python",
     "metadata": {},
     "outputs": [
      {
       "metadata": {},
       "output_type": "pyout",
       "prompt_number": 1,
       "text": [
        "8"
       ]
      }
     ],
     "prompt_number": 1
    },
    {
     "cell_type": "code",
     "collapsed": false,
     "input": [
      "a = 'Hello'\n",
      "b = ' '\n",
      "c = 'world'\n",
      "\n",
      "a + b + c"
     ],
     "language": "python",
     "metadata": {},
     "outputs": [
      {
       "metadata": {},
       "output_type": "pyout",
       "prompt_number": 2,
       "text": [
        "'Hello world'"
       ]
      }
     ],
     "prompt_number": 2
    },
    {
     "cell_type": "code",
     "collapsed": false,
     "input": [
      "!pwd"
     ],
     "language": "python",
     "metadata": {},
     "outputs": [
      {
       "output_type": "stream",
       "stream": "stdout",
       "text": [
        "/Users/eric/proj/Notebooks/PDP-Curriculum\r\n"
       ]
      }
     ],
     "prompt_number": 4
    },
    {
     "cell_type": "code",
     "collapsed": false,
     "input": [
      "!ls"
     ],
     "language": "python",
     "metadata": {},
     "outputs": [
      {
       "output_type": "stream",
       "stream": "stdout",
       "text": [
        "1A-Overview-and-Basics.ipynb               2B-Pandas-Filtering-and-Indexing.ipynb     3C-Advanced-Matplotlib.ipynb\r\n",
        "1B-Python-Syntax-and-Data-Structures.ipynb 2C-Matplotlib-Basics.ipynb                 3D-Practice-Exercises.ipynb\r\n",
        "1C-Intro-to-Pandas.ipynb                   2D-Practice-Exercises.ipynb                4A-Grouping-and-Multiindexes.ipynb\r\n",
        "1D-Practice-Exercises.ipynb                3A-Descriptive-Stats.ipynb                 README.md\r\n",
        "2A-Loading-Data.ipynb                      3B-Exploring-Datasets.ipynb\r\n"
       ]
      }
     ],
     "prompt_number": 5
    },
    {
     "cell_type": "code",
     "collapsed": false,
     "input": [
      "!git status"
     ],
     "language": "python",
     "metadata": {},
     "outputs": [
      {
       "output_type": "stream",
       "stream": "stdout",
       "text": [
        "On branch master\r\n",
        "Your branch is up-to-date with 'origin/master'.\r\n",
        "\r\n",
        "Changes not staged for commit:\r\n",
        "  (use \"git add <file>...\" to update what will be committed)\r\n",
        "  (use \"git checkout -- <file>...\" to discard changes in working directory)\r\n",
        "\r\n",
        "\t\u001b[31mmodified:   README.md\u001b[m\r\n",
        "\r\n",
        "Untracked files:\r\n",
        "  (use \"git add <file>...\" to include in what will be committed)\r\n",
        "\r\n",
        "\t\u001b[31m1A-Overview-and-Basics.ipynb\u001b[m\r\n",
        "\t\u001b[31m1B-Python-Syntax-and-Data-Structures.ipynb\u001b[m\r\n",
        "\t\u001b[31m1C-Intro-to-Pandas.ipynb\u001b[m\r\n",
        "\t\u001b[31m1D-Practice-Exercises.ipynb\u001b[m\r\n",
        "\t\u001b[31m2A-Loading-Data.ipynb\u001b[m\r\n",
        "\t\u001b[31m2B-Pandas-Filtering-and-Indexing.ipynb\u001b[m\r\n",
        "\t\u001b[31m2C-Matplotlib-Basics.ipynb\u001b[m\r\n",
        "\t\u001b[31m2D-Practice-Exercises.ipynb\u001b[m\r\n",
        "\t\u001b[31m3A-Descriptive-Stats.ipynb\u001b[m\r\n",
        "\t\u001b[31m3B-Exploring-Datasets.ipynb\u001b[m\r\n",
        "\t\u001b[31m3C-Advanced-Matplotlib.ipynb\u001b[m\r\n",
        "\t\u001b[31m3D-Practice-Exercises.ipynb\u001b[m\r\n",
        "\t\u001b[31m4A-Grouping-and-Multiindexes.ipynb\u001b[m\r\n",
        "\r\n",
        "no changes added to commit (use \"git add\" and/or \"git commit -a\")\r\n"
       ]
      }
     ],
     "prompt_number": 6
    },
    {
     "cell_type": "heading",
     "level": 2,
     "metadata": {
      "slideshow": {
       "slide_type": "slide"
      }
     },
     "source": [
      "Git and Github"
     ]
    },
    {
     "cell_type": "heading",
     "level": 2,
     "metadata": {
      "slideshow": {
       "slide_type": "slide"
      }
     },
     "source": [
      "Round Trip; Follow Me"
     ]
    }
   ],
   "metadata": {}
  }
 ]
}