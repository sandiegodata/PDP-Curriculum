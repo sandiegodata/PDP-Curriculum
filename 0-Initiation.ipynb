{
 "metadata": {
  "name": "",
  "signature": "sha256:e0ce126d9e38946529a002cf9ea327228418198286938308bd1e78b9b06be0c6"
 },
 "nbformat": 3,
 "nbformat_minor": 0,
 "worksheets": [
  {
   "cells": [
    {
     "cell_type": "heading",
     "level": 1,
     "metadata": {
      "slideshow": {
       "slide_type": "-"
      }
     },
     "source": [
      "1A: Overview and Basics"
     ]
    },
    {
     "cell_type": "markdown",
     "metadata": {
      "slideshow": {
       "slide_type": "-"
      }
     },
     "source": [
      "Introduction\n",
      "\n",
      "SOme of the stuff in this will be merged with Gonzalo's initiation workbook. \n"
     ]
    },
    {
     "cell_type": "heading",
     "level": 2,
     "metadata": {
      "slideshow": {
       "slide_type": "-"
      }
     },
     "source": [
      "Goals"
     ]
    },
    {
     "cell_type": "markdown",
     "metadata": {},
     "source": []
    },
    {
     "cell_type": "markdown",
     "metadata": {},
     "source": [
      "## Overview of the Tools\n",
      "\n",
      "In this course, we will be using: \n",
      "* Python, a programming language\n",
      "* IPython Notebook, a programming environment\n",
      "* Pandas, a Python library for data analysis\n",
      "* Matplotlib, a Python library for 2d graphics. \n",
      "\n",
      "While there are graphical interfaces to many of these tools, it is important for you to be familiar with command line interfaces. \n"
     ]
    },
    {
     "cell_type": "markdown",
     "metadata": {},
     "source": [
      "## Starting IPython and Basic Use"
     ]
    },
    {
     "cell_type": "markdown",
     "metadata": {},
     "source": [
      "## Basic Python\n",
      "\n",
      "REPL, Read\u2013eval\u2013print loop\n"
     ]
    },
    {
     "cell_type": "code",
     "collapsed": false,
     "input": [
      "x = 2\n",
      "y = 6\n",
      "y + x"
     ],
     "language": "python",
     "metadata": {},
     "outputs": [
      {
       "metadata": {},
       "output_type": "pyout",
       "prompt_number": 7,
       "text": [
        "8"
       ]
      }
     ],
     "prompt_number": 7
    },
    {
     "cell_type": "code",
     "collapsed": false,
     "input": [
      "a = 'Hello'\n",
      "b = ' '\n",
      "c = 'world'\n",
      "\n",
      "a + b + c"
     ],
     "language": "python",
     "metadata": {},
     "outputs": [
      {
       "metadata": {},
       "output_type": "pyout",
       "prompt_number": 8,
       "text": [
        "'Hello world'"
       ]
      }
     ],
     "prompt_number": 8
    },
    {
     "cell_type": "code",
     "collapsed": false,
     "input": [
      "colors = ['red', 'yellow', 'blue']\n",
      "\n",
      "with open('colors.txt', 'w') as f:\n",
      "    for color in colors:\n",
      "        f.write(color)\n",
      "        f.write('\\n')\n"
     ],
     "language": "python",
     "metadata": {},
     "outputs": [],
     "prompt_number": 12
    },
    {
     "cell_type": "markdown",
     "metadata": {},
     "source": [
      "Write a program so that it sums the numbers from 1 to 100 and writes the result to a file called 'gauss.txt'"
     ]
    },
    {
     "cell_type": "code",
     "collapsed": false,
     "input": [
      "with open('one-line.txt', 'w') as f:\n",
      "    f.write(str(sum(range(1,101))))"
     ],
     "language": "python",
     "metadata": {},
     "outputs": [],
     "prompt_number": 25
    },
    {
     "cell_type": "markdown",
     "metadata": {},
     "source": [
      "Add the file to git, and commit and push it. Then, check that you can see the file at Github. "
     ]
    },
    {
     "cell_type": "code",
     "collapsed": false,
     "input": [
      "with open('one-line.txt') as f:\n",
      "    print f.read()"
     ],
     "language": "python",
     "metadata": {},
     "outputs": [
      {
       "output_type": "stream",
       "stream": "stdout",
       "text": [
        "5050\n"
       ]
      }
     ],
     "prompt_number": 26
    },
    {
     "cell_type": "code",
     "collapsed": false,
     "input": [
      "!ls"
     ],
     "language": "python",
     "metadata": {},
     "outputs": [
      {
       "output_type": "stream",
       "stream": "stdout",
       "text": [
        "0-Initiation.ipynb                         2B-Pandas-Filtering-and-Indexing.ipynb     3C-Advanced-Matplotlib.ipynb\r\n",
        "1B-Python-Syntax-and-Data-Structures.ipynb 2C-Matplotlib-Basics.ipynb                 3D-Practice-Exercises.ipynb\r\n",
        "1C-Intro-to-Pandas.ipynb                   2D-Practice-Exercises.ipynb                4A-Grouping-and-Multiindexes.ipynb\r\n",
        "1D-Practice-Exercises.ipynb                3A-Descriptive-Stats.ipynb                 README.md\r\n",
        "2A-Loading-Data.ipynb                      3B-Exploring-Datasets.ipynb                colors.txt\r\n"
       ]
      }
     ],
     "prompt_number": 13
    },
    {
     "cell_type": "code",
     "collapsed": false,
     "input": [
      "!cat colors.txt"
     ],
     "language": "python",
     "metadata": {},
     "outputs": [
      {
       "output_type": "stream",
       "stream": "stdout",
       "text": [
        "red\r\n",
        "yellow\r\n",
        "blue\r\n"
       ]
      }
     ],
     "prompt_number": 17
    },
    {
     "cell_type": "code",
     "collapsed": false,
     "input": [
      "!pwd"
     ],
     "language": "python",
     "metadata": {},
     "outputs": [
      {
       "output_type": "stream",
       "stream": "stdout",
       "text": [
        "/Users/eric/proj/Notebooks/PDP-Curriculum\r\n"
       ]
      }
     ],
     "prompt_number": 9
    },
    {
     "cell_type": "code",
     "collapsed": false,
     "input": [
      "!ls"
     ],
     "language": "python",
     "metadata": {},
     "outputs": [
      {
       "output_type": "stream",
       "stream": "stdout",
       "text": [
        "1A-Overview-and-Basics.ipynb               2B-Pandas-Filtering-and-Indexing.ipynb     3C-Advanced-Matplotlib.ipynb\r\n",
        "1B-Python-Syntax-and-Data-Structures.ipynb 2C-Matplotlib-Basics.ipynb                 3D-Practice-Exercises.ipynb\r\n",
        "1C-Intro-to-Pandas.ipynb                   2D-Practice-Exercises.ipynb                4A-Grouping-and-Multiindexes.ipynb\r\n",
        "1D-Practice-Exercises.ipynb                3A-Descriptive-Stats.ipynb                 README.md\r\n",
        "2A-Loading-Data.ipynb                      3B-Exploring-Datasets.ipynb\r\n"
       ]
      }
     ],
     "prompt_number": 10
    },
    {
     "cell_type": "code",
     "collapsed": false,
     "input": [
      "!git status"
     ],
     "language": "python",
     "metadata": {},
     "outputs": [
      {
       "output_type": "stream",
       "stream": "stdout",
       "text": [
        "On branch master\r\n",
        "Your branch is up-to-date with 'origin/master'.\r\n",
        "\r\n",
        "Changes not staged for commit:\r\n",
        "  (use \"git add <file>...\" to update what will be committed)\r\n",
        "  (use \"git checkout -- <file>...\" to discard changes in working directory)\r\n",
        "\r\n",
        "\t\u001b[31mmodified:   1A-Overview-and-Basics.ipynb\u001b[m\r\n",
        "\r\n",
        "no changes added to commit (use \"git add\" and/or \"git commit -a\")\r\n"
       ]
      }
     ],
     "prompt_number": 11
    },
    {
     "cell_type": "markdown",
     "metadata": {},
     "source": [
      "## Git and Github\n",
      "\n",
      "* git clone\n",
      "* git add\n",
      "* git commit\n",
      "* git push\n",
      "* git pull\n",
      "\n",
      "Tips\n",
      "\n",
      "Git is built for teams to be able have many people making changes to a single file. But for IPython Notebooks, it is better for only one person to work on each file at a time. ( Or you can set the binary attribute for .ipynb files. ) \n"
     ]
    },
    {
     "cell_type": "code",
     "collapsed": false,
     "input": [],
     "language": "python",
     "metadata": {},
     "outputs": [],
     "prompt_number": 11
    },
    {
     "cell_type": "markdown",
     "metadata": {},
     "source": [
      "Round Trip; Follow Me\n",
      "\n",
      "* Clone a repo\n",
      "* Change a newbook\n",
      "* Add a file\n",
      "* Commit\n",
      "* Push\n",
      "* NB Viewer. "
     ]
    }
   ],
   "metadata": {}
  }
 ]
}